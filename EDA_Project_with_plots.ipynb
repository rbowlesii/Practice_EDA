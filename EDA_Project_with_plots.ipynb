{
 "cells": [
  {
   "cell_type": "markdown",
   "id": "c3acc1b0-28a2-4e7b-941f-3b09fc73a370",
   "metadata": {},
   "source": [
    "# Dirty Café Sales — Exploratory Data Analysis\n",
    "\n",
    "In this notebook, I explore the **Dirty Café Sales dataset** from Kaggle.  \n",
    "The goals are to:\n",
    "- Clean and standardize messy data\n",
    "- Detect and handle outliers\n",
    "- Create exploratory visualizations\n",
    "- Analyze correlations between key variables\n",
    "\n",
    "This is a practice project designed to build and demonstrate EDA skills.\n"
   ]
  },
  {
   "cell_type": "code",
   "execution_count": 2,
   "id": "1f2eb3a8-a8ec-43ac-bb6f-8969ef96af11",
   "metadata": {},
   "outputs": [
    {
     "name": "stdout",
     "output_type": "stream",
     "text": [
      "Note: you may need to restart the kernel to use updated packages.\n"
     ]
    }
   ],
   "source": [
    "# Saving requiremnts.txt file\n",
    "pip freeze > requirements.txt"
   ]
  },
  {
   "cell_type": "markdown",
   "id": "427b5317-6240-4463-b2d1-2df939c3232b",
   "metadata": {},
   "source": [
    "## 1. Import Libraries & Load Data\n",
    "\n",
    "Here we import necessary libraries and load the dataset into a Pandas DataFrame.\n"
   ]
  },
  {
   "cell_type": "code",
   "execution_count": 4,
   "id": "c042637d-4a32-4381-b08c-1293fc3e471f",
   "metadata": {},
   "outputs": [],
   "source": [
    "# Loading in the data and initial packages\n",
    "\n",
    "import pandas as pd\n",
    "import numpy as np\n",
    "\n",
    "df = pd.read_csv('dirty_cafe_sales.csv')"
   ]
  },
  {
   "cell_type": "markdown",
   "id": "9fd6ed87-e51a-4d6a-a01e-d8de4d77ebe1",
   "metadata": {},
   "source": [
    "## 2. Data Overview\n",
    "\n",
    "We start by reviewing the dataset structure, identifying missing values, and checking for duplicates.\n"
   ]
  },
  {
   "cell_type": "code",
   "execution_count": 6,
   "id": "5db5f9fa-9dd4-4087-96d8-4c2fdd43becb",
   "metadata": {},
   "outputs": [
    {
     "data": {
      "text/html": [
       "<div>\n",
       "<style scoped>\n",
       "    .dataframe tbody tr th:only-of-type {\n",
       "        vertical-align: middle;\n",
       "    }\n",
       "\n",
       "    .dataframe tbody tr th {\n",
       "        vertical-align: top;\n",
       "    }\n",
       "\n",
       "    .dataframe thead th {\n",
       "        text-align: right;\n",
       "    }\n",
       "</style>\n",
       "<table border=\"1\" class=\"dataframe\">\n",
       "  <thead>\n",
       "    <tr style=\"text-align: right;\">\n",
       "      <th></th>\n",
       "      <th>Transaction ID</th>\n",
       "      <th>Item</th>\n",
       "      <th>Quantity</th>\n",
       "      <th>Price Per Unit</th>\n",
       "      <th>Total Spent</th>\n",
       "      <th>Payment Method</th>\n",
       "      <th>Location</th>\n",
       "      <th>Transaction Date</th>\n",
       "    </tr>\n",
       "  </thead>\n",
       "  <tbody>\n",
       "    <tr>\n",
       "      <th>0</th>\n",
       "      <td>TXN_1961373</td>\n",
       "      <td>Coffee</td>\n",
       "      <td>2</td>\n",
       "      <td>2.0</td>\n",
       "      <td>4.0</td>\n",
       "      <td>Credit Card</td>\n",
       "      <td>Takeaway</td>\n",
       "      <td>2023-09-08</td>\n",
       "    </tr>\n",
       "    <tr>\n",
       "      <th>1</th>\n",
       "      <td>TXN_4977031</td>\n",
       "      <td>Cake</td>\n",
       "      <td>4</td>\n",
       "      <td>3.0</td>\n",
       "      <td>12.0</td>\n",
       "      <td>Cash</td>\n",
       "      <td>In-store</td>\n",
       "      <td>2023-05-16</td>\n",
       "    </tr>\n",
       "    <tr>\n",
       "      <th>2</th>\n",
       "      <td>TXN_4271903</td>\n",
       "      <td>Cookie</td>\n",
       "      <td>4</td>\n",
       "      <td>1.0</td>\n",
       "      <td>ERROR</td>\n",
       "      <td>Credit Card</td>\n",
       "      <td>In-store</td>\n",
       "      <td>2023-07-19</td>\n",
       "    </tr>\n",
       "    <tr>\n",
       "      <th>3</th>\n",
       "      <td>TXN_7034554</td>\n",
       "      <td>Salad</td>\n",
       "      <td>2</td>\n",
       "      <td>5.0</td>\n",
       "      <td>10.0</td>\n",
       "      <td>UNKNOWN</td>\n",
       "      <td>UNKNOWN</td>\n",
       "      <td>2023-04-27</td>\n",
       "    </tr>\n",
       "    <tr>\n",
       "      <th>4</th>\n",
       "      <td>TXN_3160411</td>\n",
       "      <td>Coffee</td>\n",
       "      <td>2</td>\n",
       "      <td>2.0</td>\n",
       "      <td>4.0</td>\n",
       "      <td>Digital Wallet</td>\n",
       "      <td>In-store</td>\n",
       "      <td>2023-06-11</td>\n",
       "    </tr>\n",
       "  </tbody>\n",
       "</table>\n",
       "</div>"
      ],
      "text/plain": [
       "  Transaction ID    Item Quantity Price Per Unit Total Spent  Payment Method  \\\n",
       "0    TXN_1961373  Coffee        2            2.0         4.0     Credit Card   \n",
       "1    TXN_4977031    Cake        4            3.0        12.0            Cash   \n",
       "2    TXN_4271903  Cookie        4            1.0       ERROR     Credit Card   \n",
       "3    TXN_7034554   Salad        2            5.0        10.0         UNKNOWN   \n",
       "4    TXN_3160411  Coffee        2            2.0         4.0  Digital Wallet   \n",
       "\n",
       "   Location Transaction Date  \n",
       "0  Takeaway       2023-09-08  \n",
       "1  In-store       2023-05-16  \n",
       "2  In-store       2023-07-19  \n",
       "3   UNKNOWN       2023-04-27  \n",
       "4  In-store       2023-06-11  "
      ]
     },
     "execution_count": 6,
     "metadata": {},
     "output_type": "execute_result"
    }
   ],
   "source": [
    "# Quick look at the data\n",
    "df.head()"
   ]
  },
  {
   "cell_type": "code",
   "execution_count": 7,
   "id": "1ff1be52-7b9c-4a47-b5b0-13b2a4bfc673",
   "metadata": {},
   "outputs": [
    {
     "name": "stdout",
     "output_type": "stream",
     "text": [
      "<class 'pandas.core.frame.DataFrame'>\n",
      "RangeIndex: 10000 entries, 0 to 9999\n",
      "Data columns (total 8 columns):\n",
      " #   Column            Non-Null Count  Dtype \n",
      "---  ------            --------------  ----- \n",
      " 0   Transaction ID    10000 non-null  object\n",
      " 1   Item              9667 non-null   object\n",
      " 2   Quantity          9862 non-null   object\n",
      " 3   Price Per Unit    9821 non-null   object\n",
      " 4   Total Spent       9827 non-null   object\n",
      " 5   Payment Method    7421 non-null   object\n",
      " 6   Location          6735 non-null   object\n",
      " 7   Transaction Date  9841 non-null   object\n",
      "dtypes: object(8)\n",
      "memory usage: 625.1+ KB\n"
     ]
    }
   ],
   "source": [
    "df.info()"
   ]
  },
  {
   "cell_type": "code",
   "execution_count": 8,
   "id": "c5180e87-c765-46c2-b888-fecb95d6ed0a",
   "metadata": {},
   "outputs": [
    {
     "data": {
      "text/plain": [
       "Item\n",
       "Juice       1171\n",
       "Coffee      1165\n",
       "Salad       1148\n",
       "Cake        1139\n",
       "Sandwich    1131\n",
       "Smoothie    1096\n",
       "Cookie      1092\n",
       "Tea         1089\n",
       "UNKNOWN      344\n",
       "ERROR        292\n",
       "Name: count, dtype: int64"
      ]
     },
     "execution_count": 8,
     "metadata": {},
     "output_type": "execute_result"
    }
   ],
   "source": [
    "df['Item'].value_counts()"
   ]
  },
  {
   "cell_type": "code",
   "execution_count": 9,
   "id": "d12d26a4-e1d6-4548-b02b-44b59696a3f9",
   "metadata": {},
   "outputs": [
    {
     "data": {
      "text/plain": [
       "Payment Method\n",
       "Digital Wallet    2291\n",
       "Credit Card       2273\n",
       "Cash              2258\n",
       "ERROR              306\n",
       "UNKNOWN            293\n",
       "Name: count, dtype: int64"
      ]
     },
     "execution_count": 9,
     "metadata": {},
     "output_type": "execute_result"
    }
   ],
   "source": [
    "df['Payment Method'].value_counts()"
   ]
  },
  {
   "cell_type": "code",
   "execution_count": 10,
   "id": "3c4ff038-0b19-4211-9b5c-906668510a7f",
   "metadata": {},
   "outputs": [
    {
     "data": {
      "text/plain": [
       "Location\n",
       "Takeaway    3022\n",
       "In-store    3017\n",
       "ERROR        358\n",
       "UNKNOWN      338\n",
       "Name: count, dtype: int64"
      ]
     },
     "execution_count": 10,
     "metadata": {},
     "output_type": "execute_result"
    }
   ],
   "source": [
    "df['Location'].value_counts()"
   ]
  },
  {
   "cell_type": "code",
   "execution_count": 11,
   "id": "4086c623-b12a-4480-b144-d3f140dd6178",
   "metadata": {},
   "outputs": [
    {
     "data": {
      "text/html": [
       "<div>\n",
       "<style scoped>\n",
       "    .dataframe tbody tr th:only-of-type {\n",
       "        vertical-align: middle;\n",
       "    }\n",
       "\n",
       "    .dataframe tbody tr th {\n",
       "        vertical-align: top;\n",
       "    }\n",
       "\n",
       "    .dataframe thead th {\n",
       "        text-align: right;\n",
       "    }\n",
       "</style>\n",
       "<table border=\"1\" class=\"dataframe\">\n",
       "  <thead>\n",
       "    <tr style=\"text-align: right;\">\n",
       "      <th></th>\n",
       "      <th>Transaction ID</th>\n",
       "      <th>Item</th>\n",
       "      <th>Quantity</th>\n",
       "      <th>Price Per Unit</th>\n",
       "      <th>Total Spent</th>\n",
       "      <th>Payment Method</th>\n",
       "      <th>Location</th>\n",
       "      <th>Transaction Date</th>\n",
       "    </tr>\n",
       "  </thead>\n",
       "  <tbody>\n",
       "    <tr>\n",
       "      <th>count</th>\n",
       "      <td>10000</td>\n",
       "      <td>9667</td>\n",
       "      <td>9862</td>\n",
       "      <td>9821</td>\n",
       "      <td>9827</td>\n",
       "      <td>7421</td>\n",
       "      <td>6735</td>\n",
       "      <td>9841</td>\n",
       "    </tr>\n",
       "    <tr>\n",
       "      <th>unique</th>\n",
       "      <td>10000</td>\n",
       "      <td>10</td>\n",
       "      <td>7</td>\n",
       "      <td>8</td>\n",
       "      <td>19</td>\n",
       "      <td>5</td>\n",
       "      <td>4</td>\n",
       "      <td>367</td>\n",
       "    </tr>\n",
       "    <tr>\n",
       "      <th>top</th>\n",
       "      <td>TXN_1961373</td>\n",
       "      <td>Juice</td>\n",
       "      <td>5</td>\n",
       "      <td>3.0</td>\n",
       "      <td>6.0</td>\n",
       "      <td>Digital Wallet</td>\n",
       "      <td>Takeaway</td>\n",
       "      <td>UNKNOWN</td>\n",
       "    </tr>\n",
       "    <tr>\n",
       "      <th>freq</th>\n",
       "      <td>1</td>\n",
       "      <td>1171</td>\n",
       "      <td>2013</td>\n",
       "      <td>2429</td>\n",
       "      <td>979</td>\n",
       "      <td>2291</td>\n",
       "      <td>3022</td>\n",
       "      <td>159</td>\n",
       "    </tr>\n",
       "  </tbody>\n",
       "</table>\n",
       "</div>"
      ],
      "text/plain": [
       "       Transaction ID   Item Quantity Price Per Unit Total Spent  \\\n",
       "count           10000   9667     9862           9821        9827   \n",
       "unique          10000     10        7              8          19   \n",
       "top       TXN_1961373  Juice        5            3.0         6.0   \n",
       "freq                1   1171     2013           2429         979   \n",
       "\n",
       "        Payment Method  Location Transaction Date  \n",
       "count             7421      6735             9841  \n",
       "unique               5         4              367  \n",
       "top     Digital Wallet  Takeaway          UNKNOWN  \n",
       "freq              2291      3022              159  "
      ]
     },
     "execution_count": 11,
     "metadata": {},
     "output_type": "execute_result"
    }
   ],
   "source": [
    "df.describe()"
   ]
  },
  {
   "cell_type": "markdown",
   "id": "0f53d340-91da-4073-b36d-5af433667a3c",
   "metadata": {},
   "source": [
    "## 3. Data Cleaning\n",
    "\n",
    "Steps taken:\n",
    "- Dropped rows with missing values (reduced dataset by ~50%).\n",
    "- Converted 'UNKNOWN' and 'ERROR' entries into NaN.\n",
    "- Standardized column names into snake_case.\n",
    "\n",
    "This ensures consistency and prepares the dataset for analysis.\n"
   ]
  },
  {
   "cell_type": "code",
   "execution_count": 13,
   "id": "41a7ceb5-6c61-4d0f-af9c-a2623d34d54b",
   "metadata": {},
   "outputs": [],
   "source": [
    "# Copy Creation\n",
    "df_copy = df.copy()"
   ]
  },
  {
   "cell_type": "code",
   "execution_count": 14,
   "id": "d292bfcd-694d-4bb4-8fa0-1adee4650cb5",
   "metadata": {},
   "outputs": [],
   "source": [
    "# Dealing with missing values\n",
    "\n",
    "df_copy = df_copy.dropna()"
   ]
  },
  {
   "cell_type": "code",
   "execution_count": 15,
   "id": "1d49502f-158c-40a8-b50c-b2e3e2242c40",
   "metadata": {},
   "outputs": [
    {
     "name": "stdout",
     "output_type": "stream",
     "text": [
      "<class 'pandas.core.frame.DataFrame'>\n",
      "Index: 4550 entries, 0 to 9999\n",
      "Data columns (total 8 columns):\n",
      " #   Column            Non-Null Count  Dtype \n",
      "---  ------            --------------  ----- \n",
      " 0   Transaction ID    4550 non-null   object\n",
      " 1   Item              4550 non-null   object\n",
      " 2   Quantity          4550 non-null   object\n",
      " 3   Price Per Unit    4550 non-null   object\n",
      " 4   Total Spent       4550 non-null   object\n",
      " 5   Payment Method    4550 non-null   object\n",
      " 6   Location          4550 non-null   object\n",
      " 7   Transaction Date  4550 non-null   object\n",
      "dtypes: object(8)\n",
      "memory usage: 319.9+ KB\n"
     ]
    }
   ],
   "source": [
    "# lets see how many rows are left\n",
    "df_copy.info()"
   ]
  },
  {
   "cell_type": "markdown",
   "id": "ad861483-63b1-4559-941a-59691b5e5702",
   "metadata": {},
   "source": [
    "Wow! Over 50% of the rows were filled with null values."
   ]
  },
  {
   "cell_type": "code",
   "execution_count": 17,
   "id": "2a6c48c0-554c-44eb-8036-b88c9eb0de2f",
   "metadata": {},
   "outputs": [],
   "source": [
    "# Resseting index\n",
    "df_copy_reset = df_copy.reset_index(drop = True)"
   ]
  },
  {
   "cell_type": "markdown",
   "id": "323857b7-6816-4a25-8806-624d83f5fa00",
   "metadata": {},
   "source": [
    "Lets deal with UNKNOWN and ERROR values."
   ]
  },
  {
   "cell_type": "code",
   "execution_count": 19,
   "id": "9416ad65-cc61-4412-b639-54e4ab83e7bf",
   "metadata": {},
   "outputs": [],
   "source": [
    "# Replacing all UNKNOWN AND ERROR values with Other\n",
    "df_copy_reset = df_copy_reset.replace('UNKNOWN', 'Other')"
   ]
  },
  {
   "cell_type": "code",
   "execution_count": 20,
   "id": "fbda0afc-1ff3-42c8-aff7-dd8cc68705e6",
   "metadata": {},
   "outputs": [],
   "source": [
    "df_copy_reset = df_copy_reset.replace('ERROR', 'Other')"
   ]
  },
  {
   "cell_type": "code",
   "execution_count": 21,
   "id": "355fd8f9-cca1-4949-8c03-00dc88336ee8",
   "metadata": {},
   "outputs": [],
   "source": [
    "# Dropping all 'Other' values \n",
    "# Converting them to NA's for ease\n",
    "\n",
    "df_copy_reset = df_copy_reset.replace('Other', np.nan)"
   ]
  },
  {
   "cell_type": "code",
   "execution_count": 22,
   "id": "b41ee894-b278-49d5-9b2b-b36760b0dd19",
   "metadata": {},
   "outputs": [],
   "source": [
    "df_copy_reset = df_copy_reset.dropna()"
   ]
  },
  {
   "cell_type": "code",
   "execution_count": 23,
   "id": "f9e47b5c-0ffb-43e7-824d-446a38b5a505",
   "metadata": {},
   "outputs": [
    {
     "name": "stdout",
     "output_type": "stream",
     "text": [
      "<class 'pandas.core.frame.DataFrame'>\n",
      "Index: 3089 entries, 0 to 4549\n",
      "Data columns (total 8 columns):\n",
      " #   Column            Non-Null Count  Dtype \n",
      "---  ------            --------------  ----- \n",
      " 0   Transaction ID    3089 non-null   object\n",
      " 1   Item              3089 non-null   object\n",
      " 2   Quantity          3089 non-null   object\n",
      " 3   Price Per Unit    3089 non-null   object\n",
      " 4   Total Spent       3089 non-null   object\n",
      " 5   Payment Method    3089 non-null   object\n",
      " 6   Location          3089 non-null   object\n",
      " 7   Transaction Date  3089 non-null   object\n",
      "dtypes: object(8)\n",
      "memory usage: 217.2+ KB\n"
     ]
    }
   ],
   "source": [
    "# Double checking data\n",
    "\n",
    "df_copy_reset.info()"
   ]
  },
  {
   "cell_type": "code",
   "execution_count": 24,
   "id": "93bfdd9c-fc88-4a3e-af92-f768874b2175",
   "metadata": {},
   "outputs": [
    {
     "data": {
      "text/html": [
       "<div>\n",
       "<style scoped>\n",
       "    .dataframe tbody tr th:only-of-type {\n",
       "        vertical-align: middle;\n",
       "    }\n",
       "\n",
       "    .dataframe tbody tr th {\n",
       "        vertical-align: top;\n",
       "    }\n",
       "\n",
       "    .dataframe thead th {\n",
       "        text-align: right;\n",
       "    }\n",
       "</style>\n",
       "<table border=\"1\" class=\"dataframe\">\n",
       "  <thead>\n",
       "    <tr style=\"text-align: right;\">\n",
       "      <th></th>\n",
       "      <th>Transaction ID</th>\n",
       "      <th>Item</th>\n",
       "      <th>Quantity</th>\n",
       "      <th>Price Per Unit</th>\n",
       "      <th>Total Spent</th>\n",
       "      <th>Payment Method</th>\n",
       "      <th>Location</th>\n",
       "      <th>Transaction Date</th>\n",
       "    </tr>\n",
       "  </thead>\n",
       "  <tbody>\n",
       "    <tr>\n",
       "      <th>0</th>\n",
       "      <td>TXN_1961373</td>\n",
       "      <td>Coffee</td>\n",
       "      <td>2</td>\n",
       "      <td>2.0</td>\n",
       "      <td>4.0</td>\n",
       "      <td>Credit Card</td>\n",
       "      <td>Takeaway</td>\n",
       "      <td>2023-09-08</td>\n",
       "    </tr>\n",
       "    <tr>\n",
       "      <th>1</th>\n",
       "      <td>TXN_4977031</td>\n",
       "      <td>Cake</td>\n",
       "      <td>4</td>\n",
       "      <td>3.0</td>\n",
       "      <td>12.0</td>\n",
       "      <td>Cash</td>\n",
       "      <td>In-store</td>\n",
       "      <td>2023-05-16</td>\n",
       "    </tr>\n",
       "    <tr>\n",
       "      <th>4</th>\n",
       "      <td>TXN_3160411</td>\n",
       "      <td>Coffee</td>\n",
       "      <td>2</td>\n",
       "      <td>2.0</td>\n",
       "      <td>4.0</td>\n",
       "      <td>Digital Wallet</td>\n",
       "      <td>In-store</td>\n",
       "      <td>2023-06-11</td>\n",
       "    </tr>\n",
       "    <tr>\n",
       "      <th>7</th>\n",
       "      <td>TXN_2548360</td>\n",
       "      <td>Salad</td>\n",
       "      <td>5</td>\n",
       "      <td>5.0</td>\n",
       "      <td>25.0</td>\n",
       "      <td>Cash</td>\n",
       "      <td>Takeaway</td>\n",
       "      <td>2023-11-07</td>\n",
       "    </tr>\n",
       "    <tr>\n",
       "      <th>9</th>\n",
       "      <td>TXN_7619095</td>\n",
       "      <td>Sandwich</td>\n",
       "      <td>2</td>\n",
       "      <td>4.0</td>\n",
       "      <td>8.0</td>\n",
       "      <td>Cash</td>\n",
       "      <td>In-store</td>\n",
       "      <td>2023-05-03</td>\n",
       "    </tr>\n",
       "  </tbody>\n",
       "</table>\n",
       "</div>"
      ],
      "text/plain": [
       "  Transaction ID      Item Quantity Price Per Unit Total Spent  \\\n",
       "0    TXN_1961373    Coffee        2            2.0         4.0   \n",
       "1    TXN_4977031      Cake        4            3.0        12.0   \n",
       "4    TXN_3160411    Coffee        2            2.0         4.0   \n",
       "7    TXN_2548360     Salad        5            5.0        25.0   \n",
       "9    TXN_7619095  Sandwich        2            4.0         8.0   \n",
       "\n",
       "   Payment Method  Location Transaction Date  \n",
       "0     Credit Card  Takeaway       2023-09-08  \n",
       "1            Cash  In-store       2023-05-16  \n",
       "4  Digital Wallet  In-store       2023-06-11  \n",
       "7            Cash  Takeaway       2023-11-07  \n",
       "9            Cash  In-store       2023-05-03  "
      ]
     },
     "execution_count": 24,
     "metadata": {},
     "output_type": "execute_result"
    }
   ],
   "source": [
    "df_copy_reset.head()"
   ]
  },
  {
   "cell_type": "markdown",
   "id": "d009f7df-5ff1-4adf-a6dd-bfbf77e447fa",
   "metadata": {},
   "source": [
    "Okay that is done!\n",
    "Lets change columns and values to snake case and simplify them."
   ]
  },
  {
   "cell_type": "code",
   "execution_count": 26,
   "id": "8fc6eb7a-1acb-44ed-a49b-85df8bdba947",
   "metadata": {},
   "outputs": [],
   "source": [
    "df_copy_reset.columns = df_copy_reset.columns.str.replace(' ', '_')"
   ]
  },
  {
   "cell_type": "code",
   "execution_count": 27,
   "id": "04cb3411-d39f-479c-bde7-9219559c9a78",
   "metadata": {},
   "outputs": [],
   "source": [
    "df_copy_reset.columns = df_copy_reset.columns.str.lower()"
   ]
  },
  {
   "cell_type": "code",
   "execution_count": 28,
   "id": "e3d7e8d0-5fde-4414-a9a7-84287091c867",
   "metadata": {},
   "outputs": [
    {
     "data": {
      "text/html": [
       "<div>\n",
       "<style scoped>\n",
       "    .dataframe tbody tr th:only-of-type {\n",
       "        vertical-align: middle;\n",
       "    }\n",
       "\n",
       "    .dataframe tbody tr th {\n",
       "        vertical-align: top;\n",
       "    }\n",
       "\n",
       "    .dataframe thead th {\n",
       "        text-align: right;\n",
       "    }\n",
       "</style>\n",
       "<table border=\"1\" class=\"dataframe\">\n",
       "  <thead>\n",
       "    <tr style=\"text-align: right;\">\n",
       "      <th></th>\n",
       "      <th>transaction_id</th>\n",
       "      <th>item</th>\n",
       "      <th>quantity</th>\n",
       "      <th>price_per_unit</th>\n",
       "      <th>total_spent</th>\n",
       "      <th>payment_method</th>\n",
       "      <th>location</th>\n",
       "      <th>transaction_date</th>\n",
       "    </tr>\n",
       "  </thead>\n",
       "  <tbody>\n",
       "    <tr>\n",
       "      <th>0</th>\n",
       "      <td>TXN_1961373</td>\n",
       "      <td>Coffee</td>\n",
       "      <td>2</td>\n",
       "      <td>2.0</td>\n",
       "      <td>4.0</td>\n",
       "      <td>Credit Card</td>\n",
       "      <td>Takeaway</td>\n",
       "      <td>2023-09-08</td>\n",
       "    </tr>\n",
       "    <tr>\n",
       "      <th>1</th>\n",
       "      <td>TXN_4977031</td>\n",
       "      <td>Cake</td>\n",
       "      <td>4</td>\n",
       "      <td>3.0</td>\n",
       "      <td>12.0</td>\n",
       "      <td>Cash</td>\n",
       "      <td>In-store</td>\n",
       "      <td>2023-05-16</td>\n",
       "    </tr>\n",
       "    <tr>\n",
       "      <th>4</th>\n",
       "      <td>TXN_3160411</td>\n",
       "      <td>Coffee</td>\n",
       "      <td>2</td>\n",
       "      <td>2.0</td>\n",
       "      <td>4.0</td>\n",
       "      <td>Digital Wallet</td>\n",
       "      <td>In-store</td>\n",
       "      <td>2023-06-11</td>\n",
       "    </tr>\n",
       "    <tr>\n",
       "      <th>7</th>\n",
       "      <td>TXN_2548360</td>\n",
       "      <td>Salad</td>\n",
       "      <td>5</td>\n",
       "      <td>5.0</td>\n",
       "      <td>25.0</td>\n",
       "      <td>Cash</td>\n",
       "      <td>Takeaway</td>\n",
       "      <td>2023-11-07</td>\n",
       "    </tr>\n",
       "    <tr>\n",
       "      <th>9</th>\n",
       "      <td>TXN_7619095</td>\n",
       "      <td>Sandwich</td>\n",
       "      <td>2</td>\n",
       "      <td>4.0</td>\n",
       "      <td>8.0</td>\n",
       "      <td>Cash</td>\n",
       "      <td>In-store</td>\n",
       "      <td>2023-05-03</td>\n",
       "    </tr>\n",
       "  </tbody>\n",
       "</table>\n",
       "</div>"
      ],
      "text/plain": [
       "  transaction_id      item quantity price_per_unit total_spent  \\\n",
       "0    TXN_1961373    Coffee        2            2.0         4.0   \n",
       "1    TXN_4977031      Cake        4            3.0        12.0   \n",
       "4    TXN_3160411    Coffee        2            2.0         4.0   \n",
       "7    TXN_2548360     Salad        5            5.0        25.0   \n",
       "9    TXN_7619095  Sandwich        2            4.0         8.0   \n",
       "\n",
       "   payment_method  location transaction_date  \n",
       "0     Credit Card  Takeaway       2023-09-08  \n",
       "1            Cash  In-store       2023-05-16  \n",
       "4  Digital Wallet  In-store       2023-06-11  \n",
       "7            Cash  Takeaway       2023-11-07  \n",
       "9            Cash  In-store       2023-05-03  "
      ]
     },
     "execution_count": 28,
     "metadata": {},
     "output_type": "execute_result"
    }
   ],
   "source": [
    "df_copy_reset.head()"
   ]
  },
  {
   "cell_type": "markdown",
   "id": "dc732468-e32d-4d6e-a943-44ad8c177b86",
   "metadata": {},
   "source": [
    "Columns done, lets do the values."
   ]
  },
  {
   "cell_type": "code",
   "execution_count": 30,
   "id": "9b1f1b53-6995-4f87-b2ca-592dff9e8de1",
   "metadata": {},
   "outputs": [],
   "source": [
    "df_copy_reset['item'] = df_copy_reset['item'].str.lower()"
   ]
  },
  {
   "cell_type": "code",
   "execution_count": 31,
   "id": "10b6c568-93a4-4b7f-919c-224a4a95564d",
   "metadata": {},
   "outputs": [],
   "source": [
    "df_copy_reset['location'] = df_copy_reset['location'].str.lower()"
   ]
  },
  {
   "cell_type": "code",
   "execution_count": 32,
   "id": "5184d22d-4cec-43b0-ae96-c22ed31b40ac",
   "metadata": {},
   "outputs": [],
   "source": [
    "df_copy_reset['location'] = df_copy_reset['location'].str.replace('-', '_')"
   ]
  },
  {
   "cell_type": "code",
   "execution_count": 33,
   "id": "7316bae7-27bd-4527-ba97-dfa860219b0b",
   "metadata": {},
   "outputs": [],
   "source": [
    "df_copy_reset['payment_method'] = df_copy_reset['payment_method'].str.lower()"
   ]
  },
  {
   "cell_type": "code",
   "execution_count": 34,
   "id": "e5d9007d-03e2-4c76-9297-9b7d73116245",
   "metadata": {},
   "outputs": [],
   "source": [
    "df_copy_reset['payment_method'] = df_copy_reset['payment_method'].str.replace(' ', '_')"
   ]
  },
  {
   "cell_type": "code",
   "execution_count": 35,
   "id": "40db1310-72af-4f72-a290-63b4b4c3d612",
   "metadata": {},
   "outputs": [
    {
     "data": {
      "text/html": [
       "<div>\n",
       "<style scoped>\n",
       "    .dataframe tbody tr th:only-of-type {\n",
       "        vertical-align: middle;\n",
       "    }\n",
       "\n",
       "    .dataframe tbody tr th {\n",
       "        vertical-align: top;\n",
       "    }\n",
       "\n",
       "    .dataframe thead th {\n",
       "        text-align: right;\n",
       "    }\n",
       "</style>\n",
       "<table border=\"1\" class=\"dataframe\">\n",
       "  <thead>\n",
       "    <tr style=\"text-align: right;\">\n",
       "      <th></th>\n",
       "      <th>transaction_id</th>\n",
       "      <th>item</th>\n",
       "      <th>quantity</th>\n",
       "      <th>price_per_unit</th>\n",
       "      <th>total_spent</th>\n",
       "      <th>payment_method</th>\n",
       "      <th>location</th>\n",
       "      <th>transaction_date</th>\n",
       "    </tr>\n",
       "  </thead>\n",
       "  <tbody>\n",
       "    <tr>\n",
       "      <th>0</th>\n",
       "      <td>TXN_1961373</td>\n",
       "      <td>coffee</td>\n",
       "      <td>2</td>\n",
       "      <td>2.0</td>\n",
       "      <td>4.0</td>\n",
       "      <td>credit_card</td>\n",
       "      <td>takeaway</td>\n",
       "      <td>2023-09-08</td>\n",
       "    </tr>\n",
       "    <tr>\n",
       "      <th>1</th>\n",
       "      <td>TXN_4977031</td>\n",
       "      <td>cake</td>\n",
       "      <td>4</td>\n",
       "      <td>3.0</td>\n",
       "      <td>12.0</td>\n",
       "      <td>cash</td>\n",
       "      <td>in_store</td>\n",
       "      <td>2023-05-16</td>\n",
       "    </tr>\n",
       "    <tr>\n",
       "      <th>4</th>\n",
       "      <td>TXN_3160411</td>\n",
       "      <td>coffee</td>\n",
       "      <td>2</td>\n",
       "      <td>2.0</td>\n",
       "      <td>4.0</td>\n",
       "      <td>digital_wallet</td>\n",
       "      <td>in_store</td>\n",
       "      <td>2023-06-11</td>\n",
       "    </tr>\n",
       "    <tr>\n",
       "      <th>7</th>\n",
       "      <td>TXN_2548360</td>\n",
       "      <td>salad</td>\n",
       "      <td>5</td>\n",
       "      <td>5.0</td>\n",
       "      <td>25.0</td>\n",
       "      <td>cash</td>\n",
       "      <td>takeaway</td>\n",
       "      <td>2023-11-07</td>\n",
       "    </tr>\n",
       "    <tr>\n",
       "      <th>9</th>\n",
       "      <td>TXN_7619095</td>\n",
       "      <td>sandwich</td>\n",
       "      <td>2</td>\n",
       "      <td>4.0</td>\n",
       "      <td>8.0</td>\n",
       "      <td>cash</td>\n",
       "      <td>in_store</td>\n",
       "      <td>2023-05-03</td>\n",
       "    </tr>\n",
       "  </tbody>\n",
       "</table>\n",
       "</div>"
      ],
      "text/plain": [
       "  transaction_id      item quantity price_per_unit total_spent  \\\n",
       "0    TXN_1961373    coffee        2            2.0         4.0   \n",
       "1    TXN_4977031      cake        4            3.0        12.0   \n",
       "4    TXN_3160411    coffee        2            2.0         4.0   \n",
       "7    TXN_2548360     salad        5            5.0        25.0   \n",
       "9    TXN_7619095  sandwich        2            4.0         8.0   \n",
       "\n",
       "   payment_method  location transaction_date  \n",
       "0     credit_card  takeaway       2023-09-08  \n",
       "1            cash  in_store       2023-05-16  \n",
       "4  digital_wallet  in_store       2023-06-11  \n",
       "7            cash  takeaway       2023-11-07  \n",
       "9            cash  in_store       2023-05-03  "
      ]
     },
     "execution_count": 35,
     "metadata": {},
     "output_type": "execute_result"
    }
   ],
   "source": [
    "# Check to make sure everything was done correctly\n",
    "df_copy_reset.head()"
   ]
  },
  {
   "cell_type": "markdown",
   "id": "44880432-1492-4aef-be3e-151b6f56ce58",
   "metadata": {},
   "source": [
    "That looks good! Next lets make sure all the columns are the proper data types."
   ]
  },
  {
   "cell_type": "code",
   "execution_count": 37,
   "id": "891c2f39-5362-4648-904b-5fa90f2293ab",
   "metadata": {},
   "outputs": [
    {
     "name": "stdout",
     "output_type": "stream",
     "text": [
      "<class 'pandas.core.frame.DataFrame'>\n",
      "Index: 3089 entries, 0 to 4549\n",
      "Data columns (total 8 columns):\n",
      " #   Column            Non-Null Count  Dtype \n",
      "---  ------            --------------  ----- \n",
      " 0   transaction_id    3089 non-null   object\n",
      " 1   item              3089 non-null   object\n",
      " 2   quantity          3089 non-null   object\n",
      " 3   price_per_unit    3089 non-null   object\n",
      " 4   total_spent       3089 non-null   object\n",
      " 5   payment_method    3089 non-null   object\n",
      " 6   location          3089 non-null   object\n",
      " 7   transaction_date  3089 non-null   object\n",
      "dtypes: object(8)\n",
      "memory usage: 217.2+ KB\n"
     ]
    }
   ],
   "source": [
    "# Check to determine which data types need to be asjusted\n",
    "df_copy_reset.info()"
   ]
  },
  {
   "cell_type": "code",
   "execution_count": 38,
   "id": "9c2970d9-a78e-434b-8aee-cfbaaaffd168",
   "metadata": {},
   "outputs": [],
   "source": [
    "# Changing numerical data to float data type\n",
    "df_copy_reset['quantity'] = df_copy_reset['quantity'].astype(float)"
   ]
  },
  {
   "cell_type": "code",
   "execution_count": 39,
   "id": "df52066f-6bcc-44d8-bd99-5c13eace7e02",
   "metadata": {},
   "outputs": [],
   "source": [
    "df_copy_reset['price_per_unit'] = df_copy_reset['price_per_unit'].astype(float)"
   ]
  },
  {
   "cell_type": "code",
   "execution_count": 40,
   "id": "3eb3cbfe-6228-49b6-a1de-6764b607b1da",
   "metadata": {},
   "outputs": [],
   "source": [
    "df_copy_reset['total_spent'] = df_copy_reset['total_spent'].astype(float)"
   ]
  },
  {
   "cell_type": "markdown",
   "id": "b7d9493d-d8d8-47ed-8405-60fd3aafe943",
   "metadata": {},
   "source": [
    "Now that that's done, lets take a look at the data"
   ]
  },
  {
   "cell_type": "code",
   "execution_count": 42,
   "id": "b6d3c928-5334-43dd-acd6-b7bfd6d9507f",
   "metadata": {},
   "outputs": [
    {
     "name": "stdout",
     "output_type": "stream",
     "text": [
      "<class 'pandas.core.frame.DataFrame'>\n",
      "Index: 3089 entries, 0 to 4549\n",
      "Data columns (total 8 columns):\n",
      " #   Column            Non-Null Count  Dtype  \n",
      "---  ------            --------------  -----  \n",
      " 0   transaction_id    3089 non-null   object \n",
      " 1   item              3089 non-null   object \n",
      " 2   quantity          3089 non-null   float64\n",
      " 3   price_per_unit    3089 non-null   float64\n",
      " 4   total_spent       3089 non-null   float64\n",
      " 5   payment_method    3089 non-null   object \n",
      " 6   location          3089 non-null   object \n",
      " 7   transaction_date  3089 non-null   object \n",
      "dtypes: float64(3), object(5)\n",
      "memory usage: 217.2+ KB\n"
     ]
    }
   ],
   "source": [
    "df_copy_reset.info()"
   ]
  },
  {
   "cell_type": "code",
   "execution_count": 43,
   "id": "0c8e0a1b-080e-4ecf-9626-eed6b7b92763",
   "metadata": {},
   "outputs": [
    {
     "data": {
      "text/html": [
       "<div>\n",
       "<style scoped>\n",
       "    .dataframe tbody tr th:only-of-type {\n",
       "        vertical-align: middle;\n",
       "    }\n",
       "\n",
       "    .dataframe tbody tr th {\n",
       "        vertical-align: top;\n",
       "    }\n",
       "\n",
       "    .dataframe thead th {\n",
       "        text-align: right;\n",
       "    }\n",
       "</style>\n",
       "<table border=\"1\" class=\"dataframe\">\n",
       "  <thead>\n",
       "    <tr style=\"text-align: right;\">\n",
       "      <th></th>\n",
       "      <th>quantity</th>\n",
       "      <th>price_per_unit</th>\n",
       "      <th>total_spent</th>\n",
       "    </tr>\n",
       "  </thead>\n",
       "  <tbody>\n",
       "    <tr>\n",
       "      <th>count</th>\n",
       "      <td>3089.000000</td>\n",
       "      <td>3089.000000</td>\n",
       "      <td>3089.000000</td>\n",
       "    </tr>\n",
       "    <tr>\n",
       "      <th>mean</th>\n",
       "      <td>3.023632</td>\n",
       "      <td>2.954030</td>\n",
       "      <td>8.936711</td>\n",
       "    </tr>\n",
       "    <tr>\n",
       "      <th>std</th>\n",
       "      <td>1.418931</td>\n",
       "      <td>1.292975</td>\n",
       "      <td>6.032656</td>\n",
       "    </tr>\n",
       "    <tr>\n",
       "      <th>min</th>\n",
       "      <td>1.000000</td>\n",
       "      <td>1.000000</td>\n",
       "      <td>1.000000</td>\n",
       "    </tr>\n",
       "    <tr>\n",
       "      <th>25%</th>\n",
       "      <td>2.000000</td>\n",
       "      <td>2.000000</td>\n",
       "      <td>4.000000</td>\n",
       "    </tr>\n",
       "    <tr>\n",
       "      <th>50%</th>\n",
       "      <td>3.000000</td>\n",
       "      <td>3.000000</td>\n",
       "      <td>8.000000</td>\n",
       "    </tr>\n",
       "    <tr>\n",
       "      <th>75%</th>\n",
       "      <td>4.000000</td>\n",
       "      <td>4.000000</td>\n",
       "      <td>12.000000</td>\n",
       "    </tr>\n",
       "    <tr>\n",
       "      <th>max</th>\n",
       "      <td>5.000000</td>\n",
       "      <td>5.000000</td>\n",
       "      <td>25.000000</td>\n",
       "    </tr>\n",
       "  </tbody>\n",
       "</table>\n",
       "</div>"
      ],
      "text/plain": [
       "          quantity  price_per_unit  total_spent\n",
       "count  3089.000000     3089.000000  3089.000000\n",
       "mean      3.023632        2.954030     8.936711\n",
       "std       1.418931        1.292975     6.032656\n",
       "min       1.000000        1.000000     1.000000\n",
       "25%       2.000000        2.000000     4.000000\n",
       "50%       3.000000        3.000000     8.000000\n",
       "75%       4.000000        4.000000    12.000000\n",
       "max       5.000000        5.000000    25.000000"
      ]
     },
     "execution_count": 43,
     "metadata": {},
     "output_type": "execute_result"
    }
   ],
   "source": [
    "df_copy_reset.describe()"
   ]
  },
  {
   "cell_type": "code",
   "execution_count": 44,
   "id": "68164ca7-9d6f-471d-b736-5d1921d557d4",
   "metadata": {},
   "outputs": [
    {
     "data": {
      "text/html": [
       "<div>\n",
       "<style scoped>\n",
       "    .dataframe tbody tr th:only-of-type {\n",
       "        vertical-align: middle;\n",
       "    }\n",
       "\n",
       "    .dataframe tbody tr th {\n",
       "        vertical-align: top;\n",
       "    }\n",
       "\n",
       "    .dataframe thead th {\n",
       "        text-align: right;\n",
       "    }\n",
       "</style>\n",
       "<table border=\"1\" class=\"dataframe\">\n",
       "  <thead>\n",
       "    <tr style=\"text-align: right;\">\n",
       "      <th></th>\n",
       "      <th>transaction_id</th>\n",
       "      <th>item</th>\n",
       "      <th>payment_method</th>\n",
       "      <th>location</th>\n",
       "      <th>transaction_date</th>\n",
       "    </tr>\n",
       "  </thead>\n",
       "  <tbody>\n",
       "    <tr>\n",
       "      <th>count</th>\n",
       "      <td>3089</td>\n",
       "      <td>3089</td>\n",
       "      <td>3089</td>\n",
       "      <td>3089</td>\n",
       "      <td>3089</td>\n",
       "    </tr>\n",
       "    <tr>\n",
       "      <th>unique</th>\n",
       "      <td>3089</td>\n",
       "      <td>8</td>\n",
       "      <td>3</td>\n",
       "      <td>2</td>\n",
       "      <td>365</td>\n",
       "    </tr>\n",
       "    <tr>\n",
       "      <th>top</th>\n",
       "      <td>TXN_1961373</td>\n",
       "      <td>juice</td>\n",
       "      <td>digital_wallet</td>\n",
       "      <td>takeaway</td>\n",
       "      <td>2023-03-13</td>\n",
       "    </tr>\n",
       "    <tr>\n",
       "      <th>freq</th>\n",
       "      <td>1</td>\n",
       "      <td>427</td>\n",
       "      <td>1069</td>\n",
       "      <td>1547</td>\n",
       "      <td>20</td>\n",
       "    </tr>\n",
       "  </tbody>\n",
       "</table>\n",
       "</div>"
      ],
      "text/plain": [
       "       transaction_id   item  payment_method  location transaction_date\n",
       "count            3089   3089            3089      3089             3089\n",
       "unique           3089      8               3         2              365\n",
       "top       TXN_1961373  juice  digital_wallet  takeaway       2023-03-13\n",
       "freq                1    427            1069      1547               20"
      ]
     },
     "execution_count": 44,
     "metadata": {},
     "output_type": "execute_result"
    }
   ],
   "source": [
    "df_copy_reset.describe(include = [object])"
   ]
  },
  {
   "cell_type": "code",
   "execution_count": 122,
   "id": "a0470ca9-0c84-4937-9325-9a525659d31c",
   "metadata": {},
   "outputs": [],
   "source": [
    "# Saving clean data set\n",
    "df_clean = df_copy_reset\n",
    "df_clean.to_csv(\"data/dirty_cafe_sales_clean.csv\", index = False)"
   ]
  },
  {
   "cell_type": "markdown",
   "id": "67332d1b-cc0b-404c-950c-9215c4390aaf",
   "metadata": {},
   "source": [
    "## 4. Outlier Detection\n",
    "\n",
    "We used boxplots to identify extreme values in `total_spent`.\n",
    "\n",
    "Key observation:\n",
    "- Outliers exist, but removing them only slightly changes the average, indicating stable data distribution.\n"
   ]
  },
  {
   "cell_type": "markdown",
   "id": "470b9535-fa7f-4e30-8459-d475b9e5caf2",
   "metadata": {},
   "source": [
    "I noticed for the total_spent attribute 75% of the data is betweeb 1.0 and 12.0. However the maximum amount spent was 25.0, thus driving the mean up, signifying it is likely an outlier."
   ]
  },
  {
   "cell_type": "code",
   "execution_count": 48,
   "id": "ea84e3a8-1d2c-4128-a19c-966e10f1e07b",
   "metadata": {},
   "outputs": [
    {
     "data": {
      "text/plain": [
       "count    3089.000000\n",
       "mean        8.936711\n",
       "std         6.032656\n",
       "min         1.000000\n",
       "25%         4.000000\n",
       "50%         8.000000\n",
       "75%        12.000000\n",
       "max        25.000000\n",
       "Name: total_spent, dtype: float64"
      ]
     },
     "execution_count": 48,
     "metadata": {},
     "output_type": "execute_result"
    }
   ],
   "source": [
    "df_clean['total_spent'].describe()"
   ]
  },
  {
   "cell_type": "code",
   "execution_count": 49,
   "id": "9649be8c-af25-44f5-bd68-e94be378601f",
   "metadata": {},
   "outputs": [
    {
     "data": {
      "text/plain": [
       "<function matplotlib.pyplot.show(close=None, block=None)>"
      ]
     },
     "execution_count": 49,
     "metadata": {},
     "output_type": "execute_result"
    },
    {
     "data": {
      "image/png": "[encoded data removed]",
      "text/plain": [
       "<Figure size 640x480 with 1 Axes>"
      ]
     },
     "metadata": {},
     "output_type": "display_data"
    }
   ],
   "source": [
    "# lets utilize a boxplot to visualize this possible outlier\n",
    "import matplotlib.pyplot as plt\n",
    "import seaborn as sns\n",
    "\n",
    "sns.boxplot(df_clean['total_spent'])\n",
    "plt.title('Boxplot of total amount spent')\n",
    "plt.show"
   ]
  },
  {
   "cell_type": "code",
   "execution_count": 50,
   "id": "ea98a00e-4e08-4cc0-a396-b9ca1dea019d",
   "metadata": {},
   "outputs": [
    {
     "data": {
      "text/html": [
       "<div>\n",
       "<style scoped>\n",
       "    .dataframe tbody tr th:only-of-type {\n",
       "        vertical-align: middle;\n",
       "    }\n",
       "\n",
       "    .dataframe tbody tr th {\n",
       "        vertical-align: top;\n",
       "    }\n",
       "\n",
       "    .dataframe thead th {\n",
       "        text-align: right;\n",
       "    }\n",
       "</style>\n",
       "<table border=\"1\" class=\"dataframe\">\n",
       "  <thead>\n",
       "    <tr style=\"text-align: right;\">\n",
       "      <th></th>\n",
       "      <th>transaction_id</th>\n",
       "      <th>item</th>\n",
       "      <th>quantity</th>\n",
       "      <th>price_per_unit</th>\n",
       "      <th>total_spent</th>\n",
       "      <th>payment_method</th>\n",
       "      <th>location</th>\n",
       "      <th>transaction_date</th>\n",
       "    </tr>\n",
       "  </thead>\n",
       "  <tbody>\n",
       "    <tr>\n",
       "      <th>0</th>\n",
       "      <td>TXN_1961373</td>\n",
       "      <td>coffee</td>\n",
       "      <td>2.0</td>\n",
       "      <td>2.0</td>\n",
       "      <td>4.0</td>\n",
       "      <td>credit_card</td>\n",
       "      <td>takeaway</td>\n",
       "      <td>2023-09-08</td>\n",
       "    </tr>\n",
       "    <tr>\n",
       "      <th>1</th>\n",
       "      <td>TXN_4977031</td>\n",
       "      <td>cake</td>\n",
       "      <td>4.0</td>\n",
       "      <td>3.0</td>\n",
       "      <td>12.0</td>\n",
       "      <td>cash</td>\n",
       "      <td>in_store</td>\n",
       "      <td>2023-05-16</td>\n",
       "    </tr>\n",
       "    <tr>\n",
       "      <th>4</th>\n",
       "      <td>TXN_3160411</td>\n",
       "      <td>coffee</td>\n",
       "      <td>2.0</td>\n",
       "      <td>2.0</td>\n",
       "      <td>4.0</td>\n",
       "      <td>digital_wallet</td>\n",
       "      <td>in_store</td>\n",
       "      <td>2023-06-11</td>\n",
       "    </tr>\n",
       "    <tr>\n",
       "      <th>9</th>\n",
       "      <td>TXN_7619095</td>\n",
       "      <td>sandwich</td>\n",
       "      <td>2.0</td>\n",
       "      <td>4.0</td>\n",
       "      <td>8.0</td>\n",
       "      <td>cash</td>\n",
       "      <td>in_store</td>\n",
       "      <td>2023-05-03</td>\n",
       "    </tr>\n",
       "    <tr>\n",
       "      <th>10</th>\n",
       "      <td>TXN_2847255</td>\n",
       "      <td>salad</td>\n",
       "      <td>3.0</td>\n",
       "      <td>5.0</td>\n",
       "      <td>15.0</td>\n",
       "      <td>credit_card</td>\n",
       "      <td>in_store</td>\n",
       "      <td>2023-11-15</td>\n",
       "    </tr>\n",
       "    <tr>\n",
       "      <th>...</th>\n",
       "      <td>...</td>\n",
       "      <td>...</td>\n",
       "      <td>...</td>\n",
       "      <td>...</td>\n",
       "      <td>...</td>\n",
       "      <td>...</td>\n",
       "      <td>...</td>\n",
       "      <td>...</td>\n",
       "    </tr>\n",
       "    <tr>\n",
       "      <th>4542</th>\n",
       "      <td>TXN_9668108</td>\n",
       "      <td>cake</td>\n",
       "      <td>1.0</td>\n",
       "      <td>3.0</td>\n",
       "      <td>3.0</td>\n",
       "      <td>cash</td>\n",
       "      <td>in_store</td>\n",
       "      <td>2023-01-20</td>\n",
       "    </tr>\n",
       "    <tr>\n",
       "      <th>4544</th>\n",
       "      <td>TXN_9933628</td>\n",
       "      <td>smoothie</td>\n",
       "      <td>5.0</td>\n",
       "      <td>4.0</td>\n",
       "      <td>20.0</td>\n",
       "      <td>cash</td>\n",
       "      <td>in_store</td>\n",
       "      <td>2023-07-20</td>\n",
       "    </tr>\n",
       "    <tr>\n",
       "      <th>4546</th>\n",
       "      <td>TXN_2858441</td>\n",
       "      <td>sandwich</td>\n",
       "      <td>2.0</td>\n",
       "      <td>4.0</td>\n",
       "      <td>8.0</td>\n",
       "      <td>credit_card</td>\n",
       "      <td>in_store</td>\n",
       "      <td>2023-12-14</td>\n",
       "    </tr>\n",
       "    <tr>\n",
       "      <th>4547</th>\n",
       "      <td>TXN_3897619</td>\n",
       "      <td>sandwich</td>\n",
       "      <td>3.0</td>\n",
       "      <td>4.0</td>\n",
       "      <td>12.0</td>\n",
       "      <td>cash</td>\n",
       "      <td>takeaway</td>\n",
       "      <td>2023-02-24</td>\n",
       "    </tr>\n",
       "    <tr>\n",
       "      <th>4549</th>\n",
       "      <td>TXN_6170729</td>\n",
       "      <td>sandwich</td>\n",
       "      <td>3.0</td>\n",
       "      <td>4.0</td>\n",
       "      <td>12.0</td>\n",
       "      <td>cash</td>\n",
       "      <td>in_store</td>\n",
       "      <td>2023-11-07</td>\n",
       "    </tr>\n",
       "  </tbody>\n",
       "</table>\n",
       "<p>2999 rows × 8 columns</p>\n",
       "</div>"
      ],
      "text/plain": [
       "     transaction_id      item  quantity  price_per_unit  total_spent  \\\n",
       "0       TXN_1961373    coffee       2.0             2.0          4.0   \n",
       "1       TXN_4977031      cake       4.0             3.0         12.0   \n",
       "4       TXN_3160411    coffee       2.0             2.0          4.0   \n",
       "9       TXN_7619095  sandwich       2.0             4.0          8.0   \n",
       "10      TXN_2847255     salad       3.0             5.0         15.0   \n",
       "...             ...       ...       ...             ...          ...   \n",
       "4542    TXN_9668108      cake       1.0             3.0          3.0   \n",
       "4544    TXN_9933628  smoothie       5.0             4.0         20.0   \n",
       "4546    TXN_2858441  sandwich       2.0             4.0          8.0   \n",
       "4547    TXN_3897619  sandwich       3.0             4.0         12.0   \n",
       "4549    TXN_6170729  sandwich       3.0             4.0         12.0   \n",
       "\n",
       "      payment_method  location transaction_date  \n",
       "0        credit_card  takeaway       2023-09-08  \n",
       "1               cash  in_store       2023-05-16  \n",
       "4     digital_wallet  in_store       2023-06-11  \n",
       "9               cash  in_store       2023-05-03  \n",
       "10       credit_card  in_store       2023-11-15  \n",
       "...              ...       ...              ...  \n",
       "4542            cash  in_store       2023-01-20  \n",
       "4544            cash  in_store       2023-07-20  \n",
       "4546     credit_card  in_store       2023-12-14  \n",
       "4547            cash  takeaway       2023-02-24  \n",
       "4549            cash  in_store       2023-11-07  \n",
       "\n",
       "[2999 rows x 8 columns]"
      ]
     },
     "execution_count": 50,
     "metadata": {},
     "output_type": "execute_result"
    }
   ],
   "source": [
    "# The above plot confirms the assumption, lets remove any row where total amount spent is above 20\n",
    "df_clean = df_clean[df_clean['total_spent'] <= 20.0]\n",
    "df_clean"
   ]
  },
  {
   "cell_type": "code",
   "execution_count": 51,
   "id": "fdacebca-ef97-462f-8708-025efc700282",
   "metadata": {},
   "outputs": [
    {
     "data": {
      "text/plain": [
       "count    2999.000000\n",
       "mean        8.454652\n",
       "std         5.432030\n",
       "min         1.000000\n",
       "25%         4.000000\n",
       "50%         7.500000\n",
       "75%        12.000000\n",
       "max        20.000000\n",
       "Name: total_spent, dtype: float64"
      ]
     },
     "execution_count": 51,
     "metadata": {},
     "output_type": "execute_result"
    }
   ],
   "source": [
    "# let's see how the outliers removal has affected our data\n",
    "df_clean['total_spent'].describe()"
   ]
  },
  {
   "cell_type": "code",
   "execution_count": 52,
   "id": "7550e8da-71d1-4b40-8889-20614d33f29a",
   "metadata": {},
   "outputs": [
    {
     "data": {
      "text/plain": [
       "<function matplotlib.pyplot.show(close=None, block=None)>"
      ]
     },
     "execution_count": 52,
     "metadata": {},
     "output_type": "execute_result"
    },
    {
     "data": {
      "image/png": "[encoded data removed]",
      "text/plain": [
       "<Figure size 640x480 with 1 Axes>"
      ]
     },
     "metadata": {},
     "output_type": "display_data"
    }
   ],
   "source": [
    "sns.boxplot(df_clean['total_spent'])\n",
    "plt.title('Boxplot of total amount spent')\n",
    "plt.ylabel('Total Spent')\n",
    "plt.show"
   ]
  },
  {
   "cell_type": "markdown",
   "id": "0e2a62fa-6d8c-4a4c-8e34-83a07211e759",
   "metadata": {},
   "source": [
    "There was only a slight change in the average, possibly showing the outlier didn't have a significant affect on the data"
   ]
  },
  {
   "cell_type": "markdown",
   "id": "2b46a881-c333-49c8-971e-01642e52858e",
   "metadata": {},
   "source": [
    "## 5. Exploratory Visualizations\n",
    "\n",
    "We created visualizations to better understand spending patterns and item distributions.\n",
    "- Countplot/ bar charts for item categories\n",
    "- Histograms of purchase amounts\n"
   ]
  },
  {
   "cell_type": "code",
   "execution_count": 55,
   "id": "51680bec-ea21-4cd6-bd75-112f0c40607e",
   "metadata": {},
   "outputs": [
    {
     "data": {
      "image/png": "[encoded data removed]",
      "text/plain": [
       "<Figure size 800x600 with 1 Axes>"
      ]
     },
     "metadata": {},
     "output_type": "display_data"
    }
   ],
   "source": [
    "# Bar chart of total amount spent per item\n",
    "plt.figure(figsize=(8, 6))\n",
    "sns.barplot(x = 'item', y = 'total_spent', data = df_clean, estimator = sum, errorbar = None)\n",
    "plt.title('Sum of Sales by Item')\n",
    "plt.xlabel('Item')\n",
    "plt.ylabel('Amount Spent')\n",
    "plt.show()"
   ]
  },
  {
   "cell_type": "markdown",
   "id": "95ba062c-cbb8-44c4-982f-50ad73fd2240",
   "metadata": {},
   "source": [
    "Sandwiches perfomed the best in sales "
   ]
  },
  {
   "cell_type": "code",
   "execution_count": 57,
   "id": "90a87512-5445-4dce-b503-3a6487fb06ee",
   "metadata": {},
   "outputs": [
    {
     "data": {
      "image/png": "[encoded data removed]",
      "text/plain": [
       "<Figure size 800x600 with 1 Axes>"
      ]
     },
     "metadata": {},
     "output_type": "display_data"
    }
   ],
   "source": [
    "# Bar chart of quantity sold by item\n",
    "plt.figure(figsize=(8, 6))\n",
    "sns.barplot(x = 'item', y = 'quantity', data = df_clean, estimator = sum, errorbar = None)\n",
    "plt.title('Sum of Quantity Sold by Item')\n",
    "plt.xlabel('Item')\n",
    "plt.ylabel('Quantity')\n",
    "plt.show()"
   ]
  },
  {
   "cell_type": "markdown",
   "id": "3ab08b7d-223e-4597-99b1-3a9f62fb32ae",
   "metadata": {},
   "source": [
    "Juice was the most sold item"
   ]
  },
  {
   "cell_type": "code",
   "execution_count": 59,
   "id": "4491f1a5-8bc1-4852-90a5-eb169e9fe11e",
   "metadata": {},
   "outputs": [
    {
     "data": {
      "image/png": "[encoded data removed]",
      "text/plain": [
       "<Figure size 1000x600 with 1 Axes>"
      ]
     },
     "metadata": {},
     "output_type": "display_data"
    }
   ],
   "source": [
    "# Bar chart of Price per item\n",
    "plt.figure(figsize=(10, 6))\n",
    "sns.barplot(x = 'item', y = 'price_per_unit', data = df_clean)\n",
    "plt.title('Cost Per Item')\n",
    "plt.xlabel('Item')\n",
    "plt.ylabel('Cost')\n",
    "plt.show()"
   ]
  },
  {
   "cell_type": "markdown",
   "id": "b4588af4-a958-4505-9f25-36b7d9843c2e",
   "metadata": {},
   "source": [
    "Salad is most expensive item."
   ]
  },
  {
   "cell_type": "code",
   "execution_count": 61,
   "id": "75f90cb4-1253-46c9-b739-b1b318e06fe3",
   "metadata": {},
   "outputs": [
    {
     "data": {
      "image/png": "[encoded data removed]",
      "text/plain": [
       "<Figure size 800x600 with 1 Axes>"
      ]
     },
     "metadata": {},
     "output_type": "display_data"
    }
   ],
   "source": [
    "# Count of payment method\n",
    "plt.figure(figsize=(8, 6)) \n",
    "sns.countplot(x = 'payment_method', data = df_clean)\n",
    "plt.title('Count of Payment Method')\n",
    "plt.xlabel('Payment Method')\n",
    "plt.ylabel('Count')\n",
    "plt.show()"
   ]
  },
  {
   "cell_type": "markdown",
   "id": "61eb4f6b-ee3c-4a77-8bec-5f984963d3b2",
   "metadata": {},
   "source": [
    "Disbursment is roughly evenly, although most customers lean towards purchasing with their digital wallet."
   ]
  },
  {
   "cell_type": "code",
   "execution_count": 63,
   "id": "b3f7614d-598a-4b77-b4f9-8ca3b8f26596",
   "metadata": {},
   "outputs": [
    {
     "data": {
      "image/png": "[encoded data removed]",
      "text/plain": [
       "<Figure size 640x480 with 1 Axes>"
      ]
     },
     "metadata": {},
     "output_type": "display_data"
    }
   ],
   "source": [
    "# Histogram of total amount spent\n",
    "sns.histplot(data = df_clean, x = \"total_spent\", bins = 5)\n",
    "plt.title('Distibution of Total Amount Spent')\n",
    "plt.xlabel('Total Spent')\n",
    "plt.ylabel('Count')\n",
    "plt.show()\n"
   ]
  },
  {
   "cell_type": "markdown",
   "id": "b2a7ea44-2a39-4eee-9104-01f19f545a81",
   "metadata": {},
   "source": [
    "Histogram shows that the total amount spent is rightly skewed meaning that customers spend less per purchase in most cases."
   ]
  },
  {
   "cell_type": "markdown",
   "id": "228b7a2a-e532-4341-ac6f-0b4fd7427a3a",
   "metadata": {},
   "source": [
    "## 6. Correlation Analysis\n",
    "\n",
    "We focused on numerical variables: `quantity`, `price_per_unit`, and `total_spent`.\n",
    "\n",
    "Findings:\n",
    "- `total_spent` & `quantity`: 0.68 (moderate positive correlation)\n",
    "- `total_spent` & `price_per_unit`: 0.62 (moderate positive correlation)\n",
    "- Both statistically significant (p < 0.05)\n",
    "\n",
    "These relationships suggest higher spending is associated with both buying more items and paying higher unit prices.\n"
   ]
  },
  {
   "cell_type": "code",
   "execution_count": 66,
   "id": "02e915e0-b7e4-4078-b4a2-9f5e7a82b03a",
   "metadata": {},
   "outputs": [
    {
     "data": {
      "text/html": [
       "<div>\n",
       "<style scoped>\n",
       "    .dataframe tbody tr th:only-of-type {\n",
       "        vertical-align: middle;\n",
       "    }\n",
       "\n",
       "    .dataframe tbody tr th {\n",
       "        vertical-align: top;\n",
       "    }\n",
       "\n",
       "    .dataframe thead th {\n",
       "        text-align: right;\n",
       "    }\n",
       "</style>\n",
       "<table border=\"1\" class=\"dataframe\">\n",
       "  <thead>\n",
       "    <tr style=\"text-align: right;\">\n",
       "      <th></th>\n",
       "      <th>quantity</th>\n",
       "      <th>price_per_unit</th>\n",
       "      <th>total_spent</th>\n",
       "    </tr>\n",
       "  </thead>\n",
       "  <tbody>\n",
       "    <tr>\n",
       "      <th>quantity</th>\n",
       "      <td>1.000000</td>\n",
       "      <td>-0.068086</td>\n",
       "      <td>0.679548</td>\n",
       "    </tr>\n",
       "    <tr>\n",
       "      <th>price_per_unit</th>\n",
       "      <td>-0.068086</td>\n",
       "      <td>1.000000</td>\n",
       "      <td>0.615273</td>\n",
       "    </tr>\n",
       "    <tr>\n",
       "      <th>total_spent</th>\n",
       "      <td>0.679548</td>\n",
       "      <td>0.615273</td>\n",
       "      <td>1.000000</td>\n",
       "    </tr>\n",
       "  </tbody>\n",
       "</table>\n",
       "</div>"
      ],
      "text/plain": [
       "                quantity  price_per_unit  total_spent\n",
       "quantity        1.000000       -0.068086     0.679548\n",
       "price_per_unit -0.068086        1.000000     0.615273\n",
       "total_spent     0.679548        0.615273     1.000000"
      ]
     },
     "execution_count": 66,
     "metadata": {},
     "output_type": "execute_result"
    }
   ],
   "source": [
    "df_corr_filtered = df_clean[['quantity', 'price_per_unit', 'total_spent']] # isolating numerical columns to calculate correlation\n",
    "\n",
    "df_corr_filtered.corr()"
   ]
  },
  {
   "cell_type": "markdown",
   "id": "e3d74f45-7ac9-48e0-8450-b62a8ac60299",
   "metadata": {},
   "source": [
    "Nice, we found that total amount spent and quantity are moderately correlated with a value of 0.68.\n",
    "Similarly, total amount spent and price_per_unit are moderately correlated with a value of 0.62.\n",
    "\n",
    "Now we're are going to utilize p-values to determine if these correlation values are significant.\n",
    "Using two sample T test, pearson correlation coefficiton, and scipy packages we'll determine the p values and compare that to a significance level of 0.05."
   ]
  },
  {
   "cell_type": "code",
   "execution_count": 68,
   "id": "ee092648-7ddf-4f7d-b3f5-a99fbb275145",
   "metadata": {},
   "outputs": [
    {
     "name": "stdout",
     "output_type": "stream",
     "text": [
      "p_value: 0.0\n"
     ]
    }
   ],
   "source": [
    "from scipy import stats\n",
    "\n",
    "# total_spent vs. quantity\n",
    "corr, p_value = stats.pearsonr(df_clean['total_spent'], df_clean['quantity']) # using pearson correlation\n",
    "\n",
    "print('p_value:', p_value)"
   ]
  },
  {
   "cell_type": "code",
   "execution_count": 69,
   "id": "ed72d5e0-d84a-4c44-8f9b-6ace42a5d651",
   "metadata": {},
   "outputs": [
    {
     "name": "stdout",
     "output_type": "stream",
     "text": [
      "p_value: 0.0\n"
     ]
    }
   ],
   "source": [
    "# total_spent vs price_per_unit\n",
    "t_statistic, p_value = stats.ttest_ind(df_clean['total_spent'], df_clean['price_per_unit']) # using T test\n",
    "\n",
    "print('p_value:', p_value)"
   ]
  },
  {
   "cell_type": "markdown",
   "id": "1e21663f-72c5-428b-beba-f384ac9c797e",
   "metadata": {},
   "source": [
    "## 7. Conclusions and Next Steps\n",
    "\n",
    "**Key takeaways:**\n",
    "- Dataset size: 10,000 rows × 8 columns.\n",
    "- Cleaning reduced dataset size to 2999 x 8, but improved consistency.\n",
    "- An outlier was present in total_spent column but did not drastically affect averages, changing from 8.94 to 8.45.\n",
    "- Sandwiches produced the most in sales accruing almost 5000 dollars.\n",
    "- juice was the most sold item with slightly over 1200 juices sold.\n",
    "- Most customers use their digital wallet slightly more than cash or credit cards.\n",
    "- Spending is moderately correlated with both quantity(r = 0.68) and unit price(r = 0.62).\n",
    "- These insights could inform sales strategies and pricing decisions.\n",
    "\n",
    "**What I'd do next:**\n",
    "- Create features such as *hour of day*, *day of week*, or *item category* to analyze demand patterns.\n",
    "- Investigate outliers more deeply.\n",
    "- Build a simple forecasting or classification model.\n",
    "- Package this EDA into a reproducible script and add tests for the cleaning functions."
   ]
  },
  {
   "cell_type": "markdown",
   "id": "d68caa79-0a3e-4046-93cc-a064b7ba5deb",
   "metadata": {},
   "source": [
    "This was some quick practice on handling unclean data, dealing with outliers, and basic exploratory data analysis\n",
    "\n",
    "Please leave any suggestions on how I can improve my work. Thanks!"
   ]
  }
 ],
 "metadata": {
  "kernelspec": {
   "display_name": "Python [conda env:base] *",
   "language": "python",
   "name": "conda-base-py"
  },
  "language_info": {
   "codemirror_mode": {
    "name": "ipython",
    "version": 3
   },
   "file_extension": ".py",
   "mimetype": "text/x-python",
   "name": "python",
   "nbconvert_exporter": "python",
   "pygments_lexer": "ipython3",
   "version": "3.12.7"
  }
 },
 "nbformat": 4,
 "nbformat_minor": 5
}
